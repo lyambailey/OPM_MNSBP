{
 "cells": [
  {
   "cell_type": "markdown",
   "metadata": {},
   "source": [
    "**Outline**\n",
    "\n",
    "The purpose of this script is to manually identify bad channels in raw data, from individual subjects. Bad channels are marked in a 'bad_channels.txt' file (one per task), which is read by later scripts. Note that, when we read the raw data, we'll apply basic preprocessing (filtering and automatic channel rejection) to mimick the behaviour of later scripts before manual channel rejection occurs."
   ]
  },
  {
   "cell_type": "markdown",
   "metadata": {},
   "source": [
    "**Import packages**"
   ]
  },
  {
   "cell_type": "code",
   "execution_count": null,
   "metadata": {},
   "outputs": [],
   "source": [
    "import mne\n",
    "import os\n",
    "import matplotlib.pyplot as plt\n",
    "import numpy as np\n",
    "from ipywidgets import *\n",
    "import scipy.stats as sstats\n",
    "from sklearn import linear_model\n",
    "import pandas as pd\n",
    "import copy\n",
    "\n",
    "\n",
    "\n",
    "mne.set_log_level('ERROR')"
   ]
  },
  {
   "cell_type": "markdown",
   "metadata": {},
   "source": [
    "**Define file paths, subjects list, and data prefix**"
   ]
  },
  {
   "cell_type": "code",
   "execution_count": null,
   "metadata": {},
   "outputs": [],
   "source": [
    "# Define main directories \n",
    "projectDir = '../'\n",
    "dataDir = os.path.join(projectDir, 'proc_data')\n",
    "\n",
    "# Define prefix for the task\n",
    "rawPre = \"buttonPress\" \n",
    "\n",
    "# Define filestem for raw data (to be read in)\n",
    "raw_fstem = rawPre + '-trans-raw.fif'\n",
    "\n",
    "# Define frequencies used for filtering. \n",
    "notchFreqs = [60, 120, 180]\n",
    "\n",
    "n_fft = 2000\n",
    "l_freq1=3\n",
    "h_freq1=150"
   ]
  },
  {
   "cell_type": "markdown",
   "metadata": {},
   "source": [
    "**Define functions to read and preprocess raw data for a single subjcet**"
   ]
  },
  {
   "cell_type": "code",
   "execution_count": null,
   "metadata": {},
   "outputs": [],
   "source": [
    "def ampSpec(raw, n_fft):\n",
    "\t# Amplitude spectra \n",
    "\tPSDs = raw.compute_psd(n_fft=n_fft, exclude='bads')\n",
    "\tampSpecData = np.sqrt( PSDs.get_data() ) * 1e15 # in fT\n",
    "\tfreq = PSDs.freqs\n",
    "\n",
    "\treturn ampSpecData, freq\n",
    "\n",
    "\n",
    "def load_raw(subject):\n",
    "\n",
    "\t# Define path to raw data\n",
    "\traw_fname = os.path.join(dataDir, subject, 'meg', raw_fstem)\n",
    "\n",
    "\t# Read in the data\n",
    "\traw = mne.io.read_raw(raw_fname, preload=True).pick('mag')\n",
    "\n",
    "\t# Set the last 3 channels to 'bad' so they'll be excluded from PSD\n",
    "\trefChannels = raw.info['ch_names'][-3::]\n",
    "\traw.info['bads'].extend(refChannels)\n",
    "\t\n",
    "\t# Apply filtering\n",
    "\traw_filt = raw.copy()\n",
    "\traw_filt = raw_filt.notch_filter(notchFreqs)\n",
    "\traw_filt = raw_filt.filter(l_freq=l_freq1, h_freq=h_freq1)\n",
    "\n",
    "\n",
    "\t# Grab the amplitude spectrum\n",
    "\tampSpec_filt, freq = ampSpec(raw_filt.copy(), n_fft)\n",
    "\n",
    "\t# Drop channels with high noise at frequencies above 120 and below 150 Hz \n",
    "\t#\t\t(to be dropped)\n",
    "\ta = freq > 120\n",
    "\tb = freq < 145\n",
    "\tc = a*b\n",
    "\thiFreqInd = np.where(c)[0]\n",
    "\thiFreqAmp = np.mean(ampSpec_filt[:,hiFreqInd], axis=1)\n",
    "\tz_scores = np.abs(sstats.zscore(hiFreqAmp))\n",
    "\toutliers = np.where(z_scores > 2)[0]\n",
    "\thiChans = [raw_filt.info['ch_names'][i] for i in outliers]\n",
    "\traw_filt.info['bads'].extend(hiChans)\n",
    "\n",
    "\treturn raw_filt\n",
    "\n",
    "def referenceArrayRegression(raw_filter, opmChannels, sensorChannels, refChannels):\n",
    "\n",
    "\t# Window data (1 second cosine) to clean out high-pass edge effects\n",
    "\topmData = raw_filter.get_data()[opmChannels]\n",
    "\n",
    "\t# Remove signals related to reference signals via regression\n",
    "\tsensorData = opmData[sensorChannels,:]\n",
    "\treferenceData = opmData[refChannels,:]\n",
    "\n",
    "\tnumSensors = len(sensorChannels)\n",
    "\tregressData = copy.copy(sensorData)\n",
    "\tfor i in np.arange(numSensors):\n",
    "\t\t# Put data into a pandas dataframe\n",
    "\t\tdata = {'sensor': sensorData[i,:],\n",
    "\t\t\t\t'Xref': referenceData[0,:],\n",
    "\t\t\t\t'Yref': referenceData[1,:],\n",
    "\t\t\t\t'Zref': referenceData[2,:],\n",
    "\t\t\t\t}\n",
    "\t\tdf = pd.DataFrame(data)\n",
    "\t\tx = df[['Xref','Yref', 'Zref']]\n",
    "\t\ty = df['sensor']\n",
    "\t\t# Run multi-variable regression\n",
    "\t\tregr = linear_model.LinearRegression()\n",
    "\t\tregr.fit(x, y)\n",
    "\t\t# Extract cleaned sensor data \n",
    "\t\tregressData[i,:] = sensorData[i,:] - regr.coef_[0]*referenceData[0,:] - regr.coef_[1]*referenceData[1,:] - regr.coef_[2]*referenceData[2,:]\n",
    "\n",
    "\t# Put cleaned data into a raw_regress object\n",
    "\tallData = raw_filter.get_data()\n",
    "\tallData[sensorChannels,:] = regressData\n",
    "\traw_regressed = mne.io.RawArray(allData, raw_filter.info)\n",
    "\n",
    "\treturn raw_regressed\n",
    "\n"
   ]
  },
  {
   "cell_type": "markdown",
   "metadata": {},
   "source": [
    "**Round 1 (pre HFC) of channel rejection**\n",
    "\n",
    "Add any obvious bad channels to the txt file. Try to be pretty conservative here because HFC (applied after this step) can clear up a lot of noise"
   ]
  },
  {
   "cell_type": "code",
   "execution_count": null,
   "metadata": {},
   "outputs": [],
   "source": [
    "# If interactive plots won't generate, run...\n",
    "plt.close()\n",
    "\n",
    "# ...and try again"
   ]
  },
  {
   "cell_type": "code",
   "execution_count": null,
   "metadata": {},
   "outputs": [],
   "source": [
    "# Plot raw data for a given subject\n",
    "%matplotlib widget\n",
    "\n",
    "subject = 'mnsbp005'\n",
    "\n",
    "# Load preprocessed raw data\n",
    "raw_filt = load_raw(subject)\n",
    "\n",
    "# Plot the data in an interactive window. Note that you should be able to modify the size of the window by pulling on the grey triangle in the bottom right corner  \n",
    "plot = raw_filt.copy().plot(scalings=dict(mag=15e-12), use_opengl=True, duration=10)"
   ]
  },
  {
   "cell_type": "markdown",
   "metadata": {},
   "source": [
    "**Plot PSD**"
   ]
  },
  {
   "cell_type": "code",
   "execution_count": null,
   "metadata": {},
   "outputs": [],
   "source": [
    "raw_filt.plot_psd(fmin=0, fmax=200, average=False, spatial_colors=True, show=False)"
   ]
  },
  {
   "cell_type": "markdown",
   "metadata": {},
   "source": [
    "**Mark bad channels for this subject**"
   ]
  },
  {
   "cell_type": "code",
   "execution_count": null,
   "metadata": {},
   "outputs": [],
   "source": [
    "bads = [\"C5\"]\n",
    "raw_filt.info['bads'].extend(bads)\n",
    "\n",
    "raw_filt.info['bads']"
   ]
  },
  {
   "cell_type": "markdown",
   "metadata": {},
   "source": [
    "**Apply reference array regression and HFC**"
   ]
  },
  {
   "cell_type": "code",
   "execution_count": null,
   "metadata": {},
   "outputs": [],
   "source": [
    "# Get indices for sensors and references\n",
    "opmIndices = mne.channel_indices_by_type(raw_filt.info)['mag']\n",
    "numChannels = len(opmIndices)\n",
    "numSensors = numChannels-3\n",
    "sensorIndices = opmIndices[0:numSensors]\n",
    "referenceIndices = opmIndices[-3::]\n",
    "\n",
    "# Reference array regression \n",
    "raw_regressed = referenceArrayRegression(raw_filt.copy(), opmIndices, sensorIndices, referenceIndices)\n",
    "\n",
    "# Apply HFC\n",
    "raw_hfc = raw_regressed.copy()\n",
    "projs = mne.preprocessing.compute_proj_hfc(raw_hfc.info, exclude='bads', order=1) # use order=1 for 1st order HFC \n",
    "raw_hfc.add_proj(projs)\n",
    "raw_hfcApplied = raw_hfc.copy().apply_proj(verbose=\"error\")"
   ]
  },
  {
   "cell_type": "markdown",
   "metadata": {},
   "source": [
    "**Round 2 (post-HFC)**\n",
    "\n",
    "Mark any remaining bad channels not corrected by HFC. Go back, add them to 'bads', re-run HFC and re-check"
   ]
  },
  {
   "cell_type": "code",
   "execution_count": null,
   "metadata": {},
   "outputs": [],
   "source": [
    "plot = raw_hfcApplied.copy().plot(scalings=dict(mag=15e-12), use_opengl=True, duration=10)"
   ]
  },
  {
   "cell_type": "code",
   "execution_count": null,
   "metadata": {},
   "outputs": [],
   "source": [
    "raw_hfcApplied.copy().plot_psd(fmin=0, fmax=200, average=False, spatial_colors=True, show=False)"
   ]
  },
  {
   "cell_type": "code",
   "execution_count": null,
   "metadata": {},
   "outputs": [],
   "source": []
  },
  {
   "cell_type": "code",
   "execution_count": null,
   "metadata": {},
   "outputs": [],
   "source": []
  }
 ],
 "metadata": {
  "kernelspec": {
   "display_name": "base",
   "language": "python",
   "name": "python3"
  },
  "language_info": {
   "codemirror_mode": {
    "name": "ipython",
    "version": 3
   },
   "file_extension": ".py",
   "mimetype": "text/x-python",
   "name": "python",
   "nbconvert_exporter": "python",
   "pygments_lexer": "ipython3",
   "version": "3.10.4"
  }
 },
 "nbformat": 4,
 "nbformat_minor": 2
}
