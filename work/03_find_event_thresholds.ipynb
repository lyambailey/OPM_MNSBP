{
 "cells": [
  {
   "cell_type": "markdown",
   "metadata": {},
   "source": [
    "**Outline**\n",
    "\n",
    "The stimulus channel for the buttonPress data recieves two signals (i.e. amplitude peaks) per trial - the auditory cue (low amplitude) and the buttonPress (high amplitude). In a later script, we automatically detect events (button presses) based on some threshold below the BP amplitude, but above the cue amplitude. It turns out that ampltiude peaks are not consistent between participants, meaning that one threshold does not fit everybody. Therefore, the purpose of this script is to determine an appropriate threshold that detects BP's and ignores cues, for each participant. \n",
    "\n",
    "For each participant, we'll visualize events detected at a particular threshold, overlaid on the stimulus channel. We can also identify bad events (e.g., un-cued button presses). Thresholds and bad events are logged in the buttonPress_stimChannel_threshold_and_bad_events.txt file, in the support_files directory"
   ]
  },
  {
   "cell_type": "markdown",
   "metadata": {},
   "source": [
    "**Import packages**"
   ]
  },
  {
   "cell_type": "code",
   "execution_count": null,
   "metadata": {},
   "outputs": [],
   "source": [
    "import mne\n",
    "import os\n",
    "import numpy as np\n",
    "import scipy.signal as ssig\n",
    "import matplotlib.pyplot as plt \n",
    "from ipywidgets import *\n",
    "import json"
   ]
  },
  {
   "cell_type": "markdown",
   "metadata": {},
   "source": [
    "**Define data paths, subject, task prefix, and threshold**"
   ]
  },
  {
   "cell_type": "code",
   "execution_count": null,
   "metadata": {},
   "outputs": [],
   "source": [
    "# Define path containing raw data\n",
    "projectDir = '../'\n",
    "dataDir = os.path.join(projectDir, 'proc_data')\n",
    "supportDir = os.path.join(projectDir, 'support_files')\n",
    "\n",
    "# Define raw data file\n",
    "rawPre = 'buttonPress'\n",
    "rawFile = f'{rawPre}-trans-raw.fif'\n",
    "\n",
    "# Define events file\n",
    "eventsFile = os.path.join(supportDir, f'{rawPre}_stimChannel_threshold_and_bad_events.txt')\n",
    "\n",
    "# Set threshold for event detection\n",
    "vThresh = 0.5"
   ]
  },
  {
   "cell_type": "markdown",
   "metadata": {},
   "source": [
    "**Load the raw data, detect events, and plot**"
   ]
  },
  {
   "cell_type": "code",
   "execution_count": null,
   "metadata": {},
   "outputs": [],
   "source": [
    "# Select a subject\n",
    "subjectID = 'mnsbp001'\n",
    "\n",
    "# Read raw data for this subject\n",
    "raw = mne.io.read_raw(os.path.join(dataDir, subjectID, 'meg', rawFile))\n",
    "\n",
    "# Get stim channel from the raw file\n",
    "stimData = raw.get_data()[-1,:]\n",
    "stimDiff = np.diff(stimData)\n",
    "\n",
    "# Find peaks. Use stimDiff to find event onsets, or -stimDiff to find event offsets.\n",
    "bpIndex = ssig.find_peaks(-stimDiff, vThresh, distance=100)[0] \n",
    "\n",
    "print(f'{len(bpIndex)} events found')\n",
    "\n",
    "# Plot events\n",
    "%matplotlib widget\n",
    "fig, ax = plt.subplots(1,1, figsize=(10,5))\n",
    "ax.plot(stimData, 'k', linewidth=0.5)\n",
    "for n, i in enumerate(bpIndex):\n",
    "\n",
    "    # Plot the event\n",
    "    ax.axvline(i, linestyle='--', linewidth=0.75)\n",
    "\n",
    "    # Add the event number\n",
    "    ax.text(i, np.max(stimData), str(n), fontsize=8)\n",
    "    \n",
    "plt.show()\n"
   ]
  },
  {
   "cell_type": "markdown",
   "metadata": {},
   "source": [
    "**Verify that thresholds and events recorded in the thresholds/bad events file are correct**"
   ]
  },
  {
   "cell_type": "code",
   "execution_count": null,
   "metadata": {},
   "outputs": [],
   "source": [
    "# Create a dict containing events thresholds and bad events for all subjects, based on the events file\n",
    "event_thresholds_and_bads = {}\n",
    "\n",
    "with open(eventsFile, \"r\") as file:\n",
    "    for line in file:\n",
    "        line = line.strip()\n",
    "        if not line or line.startswith(\"#\"):  # Skip comments and empty lines\n",
    "            continue\n",
    "\n",
    "        # Split the line at the '=' and remove any trailing comments\n",
    "        key, value = line.split(\"=\", 1)  # Only split on the first '='\n",
    "        key = key.strip()\n",
    "\n",
    "        # Remove any comments from the value part (after '#')\n",
    "        value = value.split(\"#\")[0].strip()\n",
    "\n",
    "        # Append key and value to the dict\n",
    "        event_thresholds_and_bads[key] = json.loads(value)  # json.loads parses value (a string) into a list"
   ]
  },
  {
   "cell_type": "code",
   "execution_count": null,
   "metadata": {},
   "outputs": [],
   "source": [
    "threshold, bads = event_thresholds_and_bads[subjectID]\n",
    "\n",
    "print(f'Threshold: {threshold}')\n",
    "print(f'Bad events: {bads}')"
   ]
  },
  {
   "cell_type": "code",
   "execution_count": null,
   "metadata": {},
   "outputs": [],
   "source": []
  }
 ],
 "metadata": {
  "kernelspec": {
   "display_name": "base",
   "language": "python",
   "name": "python3"
  },
  "language_info": {
   "codemirror_mode": {
    "name": "ipython",
    "version": 3
   },
   "file_extension": ".py",
   "mimetype": "text/x-python",
   "name": "python",
   "nbconvert_exporter": "python",
   "pygments_lexer": "ipython3",
   "version": "3.10.4"
  }
 },
 "nbformat": 4,
 "nbformat_minor": 2
}
