{
 "cells": [
  {
   "cell_type": "markdown",
   "metadata": {},
   "source": [
    "**Outline**\n",
    "\n",
    "The purpose of this script is to plot cleaned, epoched data for an individual subject / task, to manually identify bad epochs. Bad epochs should be recorded in a '{task}_bad_epochs.txt' file in the support_files directory. "
   ]
  },
  {
   "cell_type": "code",
   "execution_count": null,
   "metadata": {},
   "outputs": [],
   "source": [
    "import mne\n",
    "import os\n",
    "from ipywidgets import *\n",
    "\n",
    "mne.set_log_level('ERROR')"
   ]
  },
  {
   "cell_type": "markdown",
   "metadata": {},
   "source": [
    "**Define file paths and data prefix**"
   ]
  },
  {
   "cell_type": "code",
   "execution_count": null,
   "metadata": {},
   "outputs": [],
   "source": [
    "# Define main directories \n",
    "projectDir = '../'\n",
    "dataDir = os.path.join(projectDir, 'proc_data')\n",
    "supportDir = os.path.join(projectDir, 'support_files')\n",
    "\n",
    "# Define data prefix\n",
    "dataPre = \"MNS_longISI\"\n",
    "\n",
    "# Define input files\n",
    "epochs_fstem = '-trans-cleaned-epochs.fif' # preprocessed epochs"
   ]
  },
  {
   "cell_type": "markdown",
   "metadata": {},
   "source": [
    "**Define functions**"
   ]
  },
  {
   "cell_type": "code",
   "execution_count": null,
   "metadata": {},
   "outputs": [],
   "source": [
    "# Define function to load cleaned epochs for a given\n",
    "def load_epochs(subject):\n",
    "\n",
    "\t# Define path to epochs\n",
    "\tepochs_fname = os.path.join(dataDir, subject, 'meg', f'{dataPre}{epochs_fstem}')\n",
    "\n",
    "\t# Read in the files\n",
    "\tepochs = mne.read_epochs(epochs_fname, preload=True)\n",
    "\n",
    "\treturn epochs\n",
    "\n",
    "\n"
   ]
  },
  {
   "cell_type": "markdown",
   "metadata": {},
   "source": [
    "**Plot epochs for a single subject**"
   ]
  },
  {
   "cell_type": "code",
   "execution_count": null,
   "metadata": {},
   "outputs": [],
   "source": [
    "# Plot epochs for a given subject\n",
    "%matplotlib widget\n",
    "\n",
    "subject = 'mnsbp012'\n",
    "epochs = load_epochs(subject)\n",
    "\n",
    "# Plot the epochs in an interactive window. Note that you should be able to modify the size of the window by pulling on the grey triangle in the bottom right corner  \n",
    "plot = epochs.copy().plot(scalings=dict(mag=5e-12), use_opengl=True)"
   ]
  }
 ],
 "metadata": {
  "kernelspec": {
   "display_name": "base",
   "language": "python",
   "name": "python3"
  },
  "language_info": {
   "codemirror_mode": {
    "name": "ipython",
    "version": 3
   },
   "file_extension": ".py",
   "mimetype": "text/x-python",
   "name": "python",
   "nbconvert_exporter": "python",
   "pygments_lexer": "ipython3",
   "version": "3.10.4"
  }
 },
 "nbformat": 4,
 "nbformat_minor": 2
}
